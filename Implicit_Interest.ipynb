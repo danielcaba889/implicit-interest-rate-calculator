{
  "nbformat": 4,
  "nbformat_minor": 0,
  "metadata": {
    "colab": {
      "provenance": [],
      "authorship_tag": "ABX9TyPBXkRUAogfOMiEzNqNzLBS",
      "include_colab_link": true
    },
    "kernelspec": {
      "name": "python3",
      "display_name": "Python 3"
    },
    "language_info": {
      "name": "python"
    }
  },
  "cells": [
    {
      "cell_type": "markdown",
      "metadata": {
        "id": "view-in-github",
        "colab_type": "text"
      },
      "source": [
        "<a href=\"https://colab.research.google.com/github/danielcaba889/implicit-interest-rate-calculator/blob/main/Implicit_Interest.ipynb\" target=\"_parent\"><img src=\"https://colab.research.google.com/assets/colab-badge.svg\" alt=\"Open In Colab\"/></a>"
      ]
    },
    {
      "cell_type": "code",
      "source": [
        "from sympy import symbols, solve\n",
        "\n",
        "def implicit_interest():\n",
        "  '''\n",
        "  :VA   :  Present Value. what I would have paid x1\n",
        "  :C    :  To be paid per month\n",
        "  :n    :  number of months\n",
        "  '''\n",
        "  VA = float(input (\"Present value: \"))\n",
        "  C =  float(input (\"To be paid per month: \"))\n",
        "  n = float(input (\"Number of months: \"))\n",
        "\n",
        "  x = symbols('x', positive = True)\n",
        "  expr = C*(\n",
        "      (1-(1+x)**(-n))/x\n",
        "  ) - VA\n",
        "\n",
        "\n",
        "\n",
        "  sol = solve(expr)\n",
        "\n",
        "  return sol"
      ],
      "metadata": {
        "id": "s5X5CaQt8_nb"
      },
      "execution_count": null,
      "outputs": []
    },
    {
      "cell_type": "code",
      "source": [
        "implicit_interest()"
      ],
      "metadata": {
        "colab": {
          "base_uri": "https://localhost:8080/"
        },
        "id": "vGHTlAWS8_qr",
        "outputId": "7b879add-555c-4f01-bd18-b0119e8812d7"
      },
      "execution_count": null,
      "outputs": [
        {
          "name": "stdout",
          "output_type": "stream",
          "text": [
            "Present value: 100000\n",
            "To be paid per month: 12000\n",
            "Number of months: 12\n"
          ]
        },
        {
          "output_type": "execute_result",
          "data": {
            "text/plain": [
              "[0.0611039895264738]"
            ]
          },
          "metadata": {},
          "execution_count": 9
        }
      ]
    }
  ]
}